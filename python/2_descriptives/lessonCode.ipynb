{
 "cells": [
  {
   "cell_type": "markdown",
   "metadata": {},
   "source": [
    "# Descriptive statistics"
   ]
  },
  {
   "cell_type": "markdown",
   "metadata": {},
   "source": [
    "---\n",
    "## Goals of this lesson\n",
    "\n",
    "### Students will learn:\n",
    "\n",
    "1. How to group and categorize data in Python\n",
    "2. How to generative descriptive statistics in Python"
   ]
  },
  {
   "cell_type": "markdown",
   "metadata": {},
   "source": [
    "---"
   ]
  },
  {
   "cell_type": "code",
   "execution_count": 1,
   "metadata": {},
   "outputs": [],
   "source": [
    "# load packages we will be using for this lesson\n",
    "import pandas as pd"
   ]
  },
  {
   "cell_type": "markdown",
   "metadata": {},
   "source": [
    "---\n",
    "## 0. Open dataset and load package\n",
    "\n",
    "This dataset examines the relationship between multitasking and working memory. [Link here to original paper by Uncapher et al. 2016.](https://www.ncbi.nlm.nih.gov/pmc/articles/PMC4733435/pdf/nihms712443.pdf)\n"
   ]
  },
  {
   "cell_type": "code",
   "execution_count": 2,
   "metadata": {},
   "outputs": [],
   "source": [
    "# use pd.read_csv to open data into python\n",
    "df = pd.read_csv(\"uncapher_2016_repeated_measures_dataset.csv\")"
   ]
  },
  {
   "cell_type": "markdown",
   "metadata": {},
   "source": [
    "---\n",
    "## 1. Familiarize yourself with the data\n",
    "\n",
    "\n",
    "Quick review from [data cleaning](dataCleaning/DataCleaning_Code.ipynb): take a look at the basic data structure, number of rows and columns.\n"
   ]
  },
  {
   "cell_type": "code",
   "execution_count": 3,
   "metadata": {},
   "outputs": [
    {
     "data": {
      "text/html": [
       "<div>\n",
       "<style scoped>\n",
       "    .dataframe tbody tr th:only-of-type {\n",
       "        vertical-align: middle;\n",
       "    }\n",
       "\n",
       "    .dataframe tbody tr th {\n",
       "        vertical-align: top;\n",
       "    }\n",
       "\n",
       "    .dataframe thead th {\n",
       "        text-align: right;\n",
       "    }\n",
       "</style>\n",
       "<table border=\"1\" class=\"dataframe\">\n",
       "  <thead>\n",
       "    <tr style=\"text-align: right;\">\n",
       "      <th></th>\n",
       "      <th>subjNum</th>\n",
       "      <th>groupStatus</th>\n",
       "      <th>numDist</th>\n",
       "      <th>conf</th>\n",
       "      <th>hitCount</th>\n",
       "      <th>allOldCount</th>\n",
       "      <th>rtHit</th>\n",
       "      <th>faCount</th>\n",
       "      <th>allNewCount</th>\n",
       "      <th>rtFA</th>\n",
       "      <th>distPresent</th>\n",
       "      <th>hitRate</th>\n",
       "      <th>faRate</th>\n",
       "      <th>dprime</th>\n",
       "      <th>mmi</th>\n",
       "      <th>adhd</th>\n",
       "      <th>bis</th>\n",
       "    </tr>\n",
       "  </thead>\n",
       "  <tbody>\n",
       "    <tr>\n",
       "      <th>0</th>\n",
       "      <td>6</td>\n",
       "      <td>HMM</td>\n",
       "      <td>0</td>\n",
       "      <td>hi</td>\n",
       "      <td>18</td>\n",
       "      <td>25</td>\n",
       "      <td>0.990657</td>\n",
       "      <td>3</td>\n",
       "      <td>50</td>\n",
       "      <td>1.062458</td>\n",
       "      <td>nodist</td>\n",
       "      <td>0.711538</td>\n",
       "      <td>0.068627</td>\n",
       "      <td>2.043976</td>\n",
       "      <td>5.77</td>\n",
       "      <td>4</td>\n",
       "      <td>74</td>\n",
       "    </tr>\n",
       "    <tr>\n",
       "      <th>1</th>\n",
       "      <td>6</td>\n",
       "      <td>HMM</td>\n",
       "      <td>6</td>\n",
       "      <td>hi</td>\n",
       "      <td>14</td>\n",
       "      <td>25</td>\n",
       "      <td>0.951638</td>\n",
       "      <td>3</td>\n",
       "      <td>50</td>\n",
       "      <td>1.062458</td>\n",
       "      <td>dist</td>\n",
       "      <td>0.557692</td>\n",
       "      <td>0.068627</td>\n",
       "      <td>1.631213</td>\n",
       "      <td>5.77</td>\n",
       "      <td>4</td>\n",
       "      <td>74</td>\n",
       "    </tr>\n",
       "    <tr>\n",
       "      <th>2</th>\n",
       "      <td>10</td>\n",
       "      <td>HMM</td>\n",
       "      <td>0</td>\n",
       "      <td>hi</td>\n",
       "      <td>5</td>\n",
       "      <td>25</td>\n",
       "      <td>1.081535</td>\n",
       "      <td>8</td>\n",
       "      <td>50</td>\n",
       "      <td>1.036764</td>\n",
       "      <td>nodist</td>\n",
       "      <td>0.211538</td>\n",
       "      <td>0.166667</td>\n",
       "      <td>0.166327</td>\n",
       "      <td>6.21</td>\n",
       "      <td>4</td>\n",
       "      <td>51</td>\n",
       "    </tr>\n",
       "    <tr>\n",
       "      <th>3</th>\n",
       "      <td>10</td>\n",
       "      <td>HMM</td>\n",
       "      <td>6</td>\n",
       "      <td>hi</td>\n",
       "      <td>5</td>\n",
       "      <td>25</td>\n",
       "      <td>0.999527</td>\n",
       "      <td>8</td>\n",
       "      <td>50</td>\n",
       "      <td>1.036764</td>\n",
       "      <td>dist</td>\n",
       "      <td>0.211538</td>\n",
       "      <td>0.166667</td>\n",
       "      <td>0.166327</td>\n",
       "      <td>6.21</td>\n",
       "      <td>4</td>\n",
       "      <td>51</td>\n",
       "    </tr>\n",
       "    <tr>\n",
       "      <th>4</th>\n",
       "      <td>14</td>\n",
       "      <td>HMM</td>\n",
       "      <td>0</td>\n",
       "      <td>hi</td>\n",
       "      <td>3</td>\n",
       "      <td>25</td>\n",
       "      <td>2.346210</td>\n",
       "      <td>4</td>\n",
       "      <td>50</td>\n",
       "      <td>2.075087</td>\n",
       "      <td>nodist</td>\n",
       "      <td>0.134615</td>\n",
       "      <td>0.088235</td>\n",
       "      <td>0.246866</td>\n",
       "      <td>8.60</td>\n",
       "      <td>5</td>\n",
       "      <td>62</td>\n",
       "    </tr>\n",
       "  </tbody>\n",
       "</table>\n",
       "</div>"
      ],
      "text/plain": [
       "   subjNum groupStatus  numDist conf  hitCount  allOldCount     rtHit  \\\n",
       "0        6         HMM        0   hi        18           25  0.990657   \n",
       "1        6         HMM        6   hi        14           25  0.951638   \n",
       "2       10         HMM        0   hi         5           25  1.081535   \n",
       "3       10         HMM        6   hi         5           25  0.999527   \n",
       "4       14         HMM        0   hi         3           25  2.346210   \n",
       "\n",
       "   faCount  allNewCount      rtFA distPresent   hitRate    faRate    dprime  \\\n",
       "0        3           50  1.062458      nodist  0.711538  0.068627  2.043976   \n",
       "1        3           50  1.062458        dist  0.557692  0.068627  1.631213   \n",
       "2        8           50  1.036764      nodist  0.211538  0.166667  0.166327   \n",
       "3        8           50  1.036764        dist  0.211538  0.166667  0.166327   \n",
       "4        4           50  2.075087      nodist  0.134615  0.088235  0.246866   \n",
       "\n",
       "    mmi  adhd  bis  \n",
       "0  5.77     4   74  \n",
       "1  5.77     4   74  \n",
       "2  6.21     4   51  \n",
       "3  6.21     4   51  \n",
       "4  8.60     5   62  "
      ]
     },
     "execution_count": 3,
     "metadata": {},
     "output_type": "execute_result"
    }
   ],
   "source": [
    "df.head()"
   ]
  },
  {
   "cell_type": "code",
   "execution_count": 4,
   "metadata": {},
   "outputs": [
    {
     "data": {
      "text/plain": [
       "(136, 17)"
      ]
     },
     "execution_count": 4,
     "metadata": {},
     "output_type": "execute_result"
    }
   ],
   "source": [
    "df.shape"
   ]
  },
  {
   "cell_type": "code",
   "execution_count": 5,
   "metadata": {},
   "outputs": [
    {
     "data": {
      "text/plain": [
       "Index(['subjNum', 'groupStatus', 'numDist', 'conf', 'hitCount', 'allOldCount',\n",
       "       'rtHit', 'faCount', 'allNewCount', 'rtFA', 'distPresent', 'hitRate',\n",
       "       'faRate', 'dprime', 'mmi', 'adhd', 'bis'],\n",
       "      dtype='object')"
      ]
     },
     "execution_count": 5,
     "metadata": {},
     "output_type": "execute_result"
    }
   ],
   "source": [
    "df.columns"
   ]
  },
  {
   "cell_type": "markdown",
   "metadata": {},
   "source": [
    "---\n",
    "## 2. Selecting relevant variables\n",
    "\n",
    "Sometimes datasets have many variables that are unnecessary for a given analysis. To simplify your life, and your code, we can select only the given variables we'd like to use for now.\n"
   ]
  },
  {
   "cell_type": "code",
   "execution_count": 6,
   "metadata": {},
   "outputs": [
    {
     "data": {
      "text/html": [
       "<div>\n",
       "<style scoped>\n",
       "    .dataframe tbody tr th:only-of-type {\n",
       "        vertical-align: middle;\n",
       "    }\n",
       "\n",
       "    .dataframe tbody tr th {\n",
       "        vertical-align: top;\n",
       "    }\n",
       "\n",
       "    .dataframe thead th {\n",
       "        text-align: right;\n",
       "    }\n",
       "</style>\n",
       "<table border=\"1\" class=\"dataframe\">\n",
       "  <thead>\n",
       "    <tr style=\"text-align: right;\">\n",
       "      <th></th>\n",
       "      <th>subjNum</th>\n",
       "      <th>groupStatus</th>\n",
       "      <th>adhd</th>\n",
       "      <th>hitRate</th>\n",
       "      <th>faRate</th>\n",
       "      <th>dprime</th>\n",
       "    </tr>\n",
       "  </thead>\n",
       "  <tbody>\n",
       "    <tr>\n",
       "      <th>0</th>\n",
       "      <td>6</td>\n",
       "      <td>HMM</td>\n",
       "      <td>4</td>\n",
       "      <td>0.711538</td>\n",
       "      <td>0.068627</td>\n",
       "      <td>2.043976</td>\n",
       "    </tr>\n",
       "    <tr>\n",
       "      <th>1</th>\n",
       "      <td>6</td>\n",
       "      <td>HMM</td>\n",
       "      <td>4</td>\n",
       "      <td>0.557692</td>\n",
       "      <td>0.068627</td>\n",
       "      <td>1.631213</td>\n",
       "    </tr>\n",
       "    <tr>\n",
       "      <th>2</th>\n",
       "      <td>10</td>\n",
       "      <td>HMM</td>\n",
       "      <td>4</td>\n",
       "      <td>0.211538</td>\n",
       "      <td>0.166667</td>\n",
       "      <td>0.166327</td>\n",
       "    </tr>\n",
       "    <tr>\n",
       "      <th>3</th>\n",
       "      <td>10</td>\n",
       "      <td>HMM</td>\n",
       "      <td>4</td>\n",
       "      <td>0.211538</td>\n",
       "      <td>0.166667</td>\n",
       "      <td>0.166327</td>\n",
       "    </tr>\n",
       "    <tr>\n",
       "      <th>4</th>\n",
       "      <td>14</td>\n",
       "      <td>HMM</td>\n",
       "      <td>5</td>\n",
       "      <td>0.134615</td>\n",
       "      <td>0.088235</td>\n",
       "      <td>0.246866</td>\n",
       "    </tr>\n",
       "  </tbody>\n",
       "</table>\n",
       "</div>"
      ],
      "text/plain": [
       "   subjNum groupStatus  adhd   hitRate    faRate    dprime\n",
       "0        6         HMM     4  0.711538  0.068627  2.043976\n",
       "1        6         HMM     4  0.557692  0.068627  1.631213\n",
       "2       10         HMM     4  0.211538  0.166667  0.166327\n",
       "3       10         HMM     4  0.211538  0.166667  0.166327\n",
       "4       14         HMM     5  0.134615  0.088235  0.246866"
      ]
     },
     "execution_count": 6,
     "metadata": {},
     "output_type": "execute_result"
    }
   ],
   "source": [
    "df = df[[\"subjNum\", \"groupStatus\", \"adhd\", \"hitRate\", \"faRate\", \"dprime\"]]\n",
    "df.head()"
   ]
  },
  {
   "cell_type": "markdown",
   "metadata": {},
   "source": [
    "---\n",
    "## 3. Basic Descriptives\n",
    "### Summarizing data\n",
    "Let's learn how to make simple tables of summary statistics.\n",
    "First, we will calculate summary info across all data using `describe()`, a useful function for creating summaries. Note that we're not creating a new object for this summary (i.e. not using the `=` symbol), so this will print but not save.\n"
   ]
  },
  {
   "cell_type": "code",
   "execution_count": 7,
   "metadata": {},
   "outputs": [
    {
     "data": {
      "text/html": [
       "<div>\n",
       "<style scoped>\n",
       "    .dataframe tbody tr th:only-of-type {\n",
       "        vertical-align: middle;\n",
       "    }\n",
       "\n",
       "    .dataframe tbody tr th {\n",
       "        vertical-align: top;\n",
       "    }\n",
       "\n",
       "    .dataframe thead th {\n",
       "        text-align: right;\n",
       "    }\n",
       "</style>\n",
       "<table border=\"1\" class=\"dataframe\">\n",
       "  <thead>\n",
       "    <tr style=\"text-align: right;\">\n",
       "      <th></th>\n",
       "      <th>subjNum</th>\n",
       "      <th>adhd</th>\n",
       "      <th>hitRate</th>\n",
       "      <th>faRate</th>\n",
       "      <th>dprime</th>\n",
       "    </tr>\n",
       "  </thead>\n",
       "  <tbody>\n",
       "    <tr>\n",
       "      <th>count</th>\n",
       "      <td>136.000000</td>\n",
       "      <td>136.000000</td>\n",
       "      <td>136.000000</td>\n",
       "      <td>136.000000</td>\n",
       "      <td>136.000000</td>\n",
       "    </tr>\n",
       "    <tr>\n",
       "      <th>mean</th>\n",
       "      <td>72.676471</td>\n",
       "      <td>2.382353</td>\n",
       "      <td>0.350679</td>\n",
       "      <td>0.081603</td>\n",
       "      <td>1.133846</td>\n",
       "    </tr>\n",
       "    <tr>\n",
       "      <th>std</th>\n",
       "      <td>41.664779</td>\n",
       "      <td>1.651302</td>\n",
       "      <td>0.153422</td>\n",
       "      <td>0.073607</td>\n",
       "      <td>0.566277</td>\n",
       "    </tr>\n",
       "    <tr>\n",
       "      <th>min</th>\n",
       "      <td>2.000000</td>\n",
       "      <td>0.000000</td>\n",
       "      <td>0.057692</td>\n",
       "      <td>0.009804</td>\n",
       "      <td>0.047920</td>\n",
       "    </tr>\n",
       "    <tr>\n",
       "      <th>25%</th>\n",
       "      <td>38.500000</td>\n",
       "      <td>1.000000</td>\n",
       "      <td>0.250000</td>\n",
       "      <td>0.029412</td>\n",
       "      <td>0.712359</td>\n",
       "    </tr>\n",
       "    <tr>\n",
       "      <th>50%</th>\n",
       "      <td>73.000000</td>\n",
       "      <td>2.000000</td>\n",
       "      <td>0.326923</td>\n",
       "      <td>0.058824</td>\n",
       "      <td>1.094755</td>\n",
       "    </tr>\n",
       "    <tr>\n",
       "      <th>75%</th>\n",
       "      <td>108.500000</td>\n",
       "      <td>4.000000</td>\n",
       "      <td>0.442308</td>\n",
       "      <td>0.107843</td>\n",
       "      <td>1.545407</td>\n",
       "    </tr>\n",
       "    <tr>\n",
       "      <th>max</th>\n",
       "      <td>142.000000</td>\n",
       "      <td>5.000000</td>\n",
       "      <td>0.788462</td>\n",
       "      <td>0.362745</td>\n",
       "      <td>2.478890</td>\n",
       "    </tr>\n",
       "  </tbody>\n",
       "</table>\n",
       "</div>"
      ],
      "text/plain": [
       "          subjNum        adhd     hitRate      faRate      dprime\n",
       "count  136.000000  136.000000  136.000000  136.000000  136.000000\n",
       "mean    72.676471    2.382353    0.350679    0.081603    1.133846\n",
       "std     41.664779    1.651302    0.153422    0.073607    0.566277\n",
       "min      2.000000    0.000000    0.057692    0.009804    0.047920\n",
       "25%     38.500000    1.000000    0.250000    0.029412    0.712359\n",
       "50%     73.000000    2.000000    0.326923    0.058824    1.094755\n",
       "75%    108.500000    4.000000    0.442308    0.107843    1.545407\n",
       "max    142.000000    5.000000    0.788462    0.362745    2.478890"
      ]
     },
     "execution_count": 7,
     "metadata": {},
     "output_type": "execute_result"
    }
   ],
   "source": [
    "df.describe()"
   ]
  },
  {
   "cell_type": "markdown",
   "metadata": {},
   "source": [
    "---\n",
    "## 3. Grouping data\n",
    "Next, we will learn how to group data based on certain variables of interest.\n",
    "\n",
    "We will use the `groupby()` function in pandas, which will automatically group any subsequent actions called on the data. \n",
    "\n"
   ]
  },
  {
   "cell_type": "code",
   "execution_count": 8,
   "metadata": {},
   "outputs": [
    {
     "data": {
      "text/html": [
       "<div>\n",
       "<style scoped>\n",
       "    .dataframe tbody tr th:only-of-type {\n",
       "        vertical-align: middle;\n",
       "    }\n",
       "\n",
       "    .dataframe tbody tr th {\n",
       "        vertical-align: top;\n",
       "    }\n",
       "\n",
       "    .dataframe thead th {\n",
       "        text-align: right;\n",
       "    }\n",
       "</style>\n",
       "<table border=\"1\" class=\"dataframe\">\n",
       "  <thead>\n",
       "    <tr style=\"text-align: right;\">\n",
       "      <th></th>\n",
       "      <th>subjNum</th>\n",
       "      <th>adhd</th>\n",
       "      <th>hitRate</th>\n",
       "      <th>faRate</th>\n",
       "      <th>dprime</th>\n",
       "    </tr>\n",
       "    <tr>\n",
       "      <th>groupStatus</th>\n",
       "      <th></th>\n",
       "      <th></th>\n",
       "      <th></th>\n",
       "      <th></th>\n",
       "      <th></th>\n",
       "    </tr>\n",
       "  </thead>\n",
       "  <tbody>\n",
       "    <tr>\n",
       "      <th>HMM</th>\n",
       "      <td>74.852941</td>\n",
       "      <td>2.941176</td>\n",
       "      <td>0.345023</td>\n",
       "      <td>0.088235</td>\n",
       "      <td>1.032845</td>\n",
       "    </tr>\n",
       "    <tr>\n",
       "      <th>LMM</th>\n",
       "      <td>70.500000</td>\n",
       "      <td>1.823529</td>\n",
       "      <td>0.356335</td>\n",
       "      <td>0.074971</td>\n",
       "      <td>1.234847</td>\n",
       "    </tr>\n",
       "  </tbody>\n",
       "</table>\n",
       "</div>"
      ],
      "text/plain": [
       "               subjNum      adhd   hitRate    faRate    dprime\n",
       "groupStatus                                                   \n",
       "HMM          74.852941  2.941176  0.345023  0.088235  1.032845\n",
       "LMM          70.500000  1.823529  0.356335  0.074971  1.234847"
      ]
     },
     "execution_count": 8,
     "metadata": {},
     "output_type": "execute_result"
    }
   ],
   "source": [
    "df.groupby([\"groupStatus\"]).mean()"
   ]
  },
  {
   "cell_type": "markdown",
   "metadata": {},
   "source": [
    "We can group data by more than one factor. Let's say we're interested in how levels of ADHD interact with `groupStatus` (multitasking: high or low). \n",
    "\n",
    "We will first make a factor for ADHD (median-split), and add it as a grouping variable using the `cut()` function in pandas:\n"
   ]
  },
  {
   "cell_type": "code",
   "execution_count": 9,
   "metadata": {},
   "outputs": [],
   "source": [
    "df[\"adhdF\"] = pd.cut(df[\"adhd\"],bins=2,labels=[\"Low\",\"High\"])"
   ]
  },
  {
   "cell_type": "markdown",
   "metadata": {},
   "source": [
    "Then we'll check how evenly split these groups are by using `groupby()` the `size()` functions:"
   ]
  },
  {
   "cell_type": "code",
   "execution_count": 10,
   "metadata": {},
   "outputs": [
    {
     "data": {
      "text/plain": [
       "groupStatus  adhdF\n",
       "HMM          Low      24\n",
       "             High     44\n",
       "LMM          Low      46\n",
       "             High     22\n",
       "dtype: int64"
      ]
     },
     "execution_count": 10,
     "metadata": {},
     "output_type": "execute_result"
    }
   ],
   "source": [
    "df.groupby([\"groupStatus\",\"adhdF\"]).size()"
   ]
  },
  {
   "cell_type": "markdown",
   "metadata": {},
   "source": [
    "Then we'll calculate some summary info about these groups:"
   ]
  },
  {
   "cell_type": "code",
   "execution_count": 11,
   "metadata": {},
   "outputs": [
    {
     "data": {
      "text/html": [
       "<div>\n",
       "<style scoped>\n",
       "    .dataframe tbody tr th:only-of-type {\n",
       "        vertical-align: middle;\n",
       "    }\n",
       "\n",
       "    .dataframe tbody tr th {\n",
       "        vertical-align: top;\n",
       "    }\n",
       "\n",
       "    .dataframe thead th {\n",
       "        text-align: right;\n",
       "    }\n",
       "</style>\n",
       "<table border=\"1\" class=\"dataframe\">\n",
       "  <thead>\n",
       "    <tr style=\"text-align: right;\">\n",
       "      <th></th>\n",
       "      <th></th>\n",
       "      <th>subjNum</th>\n",
       "      <th>adhd</th>\n",
       "      <th>hitRate</th>\n",
       "      <th>faRate</th>\n",
       "      <th>dprime</th>\n",
       "    </tr>\n",
       "    <tr>\n",
       "      <th>groupStatus</th>\n",
       "      <th>adhdF</th>\n",
       "      <th></th>\n",
       "      <th></th>\n",
       "      <th></th>\n",
       "      <th></th>\n",
       "      <th></th>\n",
       "    </tr>\n",
       "  </thead>\n",
       "  <tbody>\n",
       "    <tr>\n",
       "      <th rowspan=\"2\" valign=\"top\">HMM</th>\n",
       "      <th>Low</th>\n",
       "      <td>82.500000</td>\n",
       "      <td>1.083333</td>\n",
       "      <td>0.286859</td>\n",
       "      <td>0.084967</td>\n",
       "      <td>0.818802</td>\n",
       "    </tr>\n",
       "    <tr>\n",
       "      <th>High</th>\n",
       "      <td>70.681818</td>\n",
       "      <td>3.954545</td>\n",
       "      <td>0.376748</td>\n",
       "      <td>0.090018</td>\n",
       "      <td>1.149595</td>\n",
       "    </tr>\n",
       "    <tr>\n",
       "      <th rowspan=\"2\" valign=\"top\">LMM</th>\n",
       "      <th>Low</th>\n",
       "      <td>72.478261</td>\n",
       "      <td>0.913043</td>\n",
       "      <td>0.388796</td>\n",
       "      <td>0.078005</td>\n",
       "      <td>1.302366</td>\n",
       "    </tr>\n",
       "    <tr>\n",
       "      <th>High</th>\n",
       "      <td>66.363636</td>\n",
       "      <td>3.727273</td>\n",
       "      <td>0.288462</td>\n",
       "      <td>0.068627</td>\n",
       "      <td>1.093670</td>\n",
       "    </tr>\n",
       "  </tbody>\n",
       "</table>\n",
       "</div>"
      ],
      "text/plain": [
       "                     subjNum      adhd   hitRate    faRate    dprime\n",
       "groupStatus adhdF                                                   \n",
       "HMM         Low    82.500000  1.083333  0.286859  0.084967  0.818802\n",
       "            High   70.681818  3.954545  0.376748  0.090018  1.149595\n",
       "LMM         Low    72.478261  0.913043  0.388796  0.078005  1.302366\n",
       "            High   66.363636  3.727273  0.288462  0.068627  1.093670"
      ]
     },
     "execution_count": 11,
     "metadata": {},
     "output_type": "execute_result"
    }
   ],
   "source": [
    "df.groupby([\"groupStatus\",\"adhdF\"]).mean()"
   ]
  },
  {
   "cell_type": "markdown",
   "metadata": {},
   "source": [
    "### A note on piping / stringing commands together\n",
    "\n",
    "In R, we often use the pipe `%>%` to string a series of steps together. We can do the same in python with many functions in a row\n",
    "\n",
    "This is how we're able to take the output of `df.groupby([\"groupStatus\",\"adhdF\"])` and then *send that output* into the `mean()` function"
   ]
  },
  {
   "cell_type": "markdown",
   "metadata": {},
   "source": [
    "---\n",
    "## 5. Extra: Working with a long dataset \n"
   ]
  },
  {
   "cell_type": "markdown",
   "metadata": {},
   "source": [
    "This is a repeated measures (\"long\") dataset, with multiple rows per subject. This makes things a bit tricker, but we are going to show you some tools for how to work with \"long\" datasets."
   ]
  },
  {
   "cell_type": "markdown",
   "metadata": {},
   "source": [
    "### How many unique subjects are in the data?"
   ]
  },
  {
   "cell_type": "code",
   "execution_count": 12,
   "metadata": {},
   "outputs": [
    {
     "data": {
      "text/plain": [
       "68"
      ]
     },
     "execution_count": 12,
     "metadata": {},
     "output_type": "execute_result"
    }
   ],
   "source": [
    "subList = df[\"subjNum\"].unique()\n",
    "nSubs = len(subList)\n",
    "nSubs"
   ]
  },
  {
   "cell_type": "markdown",
   "metadata": {},
   "source": [
    "### How many trials were there per subject?\n"
   ]
  },
  {
   "cell_type": "code",
   "execution_count": 13,
   "metadata": {},
   "outputs": [
    {
     "data": {
      "text/html": [
       "<div>\n",
       "<style scoped>\n",
       "    .dataframe tbody tr th:only-of-type {\n",
       "        vertical-align: middle;\n",
       "    }\n",
       "\n",
       "    .dataframe tbody tr th {\n",
       "        vertical-align: top;\n",
       "    }\n",
       "\n",
       "    .dataframe thead th {\n",
       "        text-align: right;\n",
       "    }\n",
       "</style>\n",
       "<table border=\"1\" class=\"dataframe\">\n",
       "  <thead>\n",
       "    <tr style=\"text-align: right;\">\n",
       "      <th></th>\n",
       "      <th>subjNum</th>\n",
       "      <th>nTrials</th>\n",
       "    </tr>\n",
       "  </thead>\n",
       "  <tbody>\n",
       "    <tr>\n",
       "      <th>0</th>\n",
       "      <td>2</td>\n",
       "      <td>2</td>\n",
       "    </tr>\n",
       "    <tr>\n",
       "      <th>1</th>\n",
       "      <td>5</td>\n",
       "      <td>2</td>\n",
       "    </tr>\n",
       "    <tr>\n",
       "      <th>2</th>\n",
       "      <td>6</td>\n",
       "      <td>2</td>\n",
       "    </tr>\n",
       "    <tr>\n",
       "      <th>3</th>\n",
       "      <td>9</td>\n",
       "      <td>2</td>\n",
       "    </tr>\n",
       "    <tr>\n",
       "      <th>4</th>\n",
       "      <td>10</td>\n",
       "      <td>2</td>\n",
       "    </tr>\n",
       "  </tbody>\n",
       "</table>\n",
       "</div>"
      ],
      "text/plain": [
       "   subjNum  nTrials\n",
       "0        2        2\n",
       "1        5        2\n",
       "2        6        2\n",
       "3        9        2\n",
       "4       10        2"
      ]
     },
     "execution_count": 13,
     "metadata": {},
     "output_type": "execute_result"
    }
   ],
   "source": [
    "nTrialsPerSubj = df.groupby([\"subjNum\"]).size().reset_index(name=\"nTrials\")\n",
    "nTrialsPerSubj.head()"
   ]
  },
  {
   "cell_type": "markdown",
   "metadata": {},
   "source": [
    "### Combine summary statistics with the full data frame\n",
    "\n",
    "For some analyses, you might want to add a higher level variable (e.g. subject average hitRate) alongside your long data. We can do this by summarizing the data in a new data frame and then merging it with the full data.\n"
   ]
  },
  {
   "cell_type": "code",
   "execution_count": 14,
   "metadata": {},
   "outputs": [
    {
     "data": {
      "text/html": [
       "<div>\n",
       "<style scoped>\n",
       "    .dataframe tbody tr th:only-of-type {\n",
       "        vertical-align: middle;\n",
       "    }\n",
       "\n",
       "    .dataframe tbody tr th {\n",
       "        vertical-align: top;\n",
       "    }\n",
       "\n",
       "    .dataframe thead th {\n",
       "        text-align: right;\n",
       "    }\n",
       "</style>\n",
       "<table border=\"1\" class=\"dataframe\">\n",
       "  <thead>\n",
       "    <tr style=\"text-align: right;\">\n",
       "      <th></th>\n",
       "      <th>subjNum</th>\n",
       "      <th>avgHR</th>\n",
       "    </tr>\n",
       "  </thead>\n",
       "  <tbody>\n",
       "    <tr>\n",
       "      <th>0</th>\n",
       "      <td>2</td>\n",
       "      <td>0.326923</td>\n",
       "    </tr>\n",
       "    <tr>\n",
       "      <th>1</th>\n",
       "      <td>5</td>\n",
       "      <td>0.403846</td>\n",
       "    </tr>\n",
       "    <tr>\n",
       "      <th>2</th>\n",
       "      <td>6</td>\n",
       "      <td>0.634615</td>\n",
       "    </tr>\n",
       "    <tr>\n",
       "      <th>3</th>\n",
       "      <td>9</td>\n",
       "      <td>0.173077</td>\n",
       "    </tr>\n",
       "    <tr>\n",
       "      <th>4</th>\n",
       "      <td>10</td>\n",
       "      <td>0.211538</td>\n",
       "    </tr>\n",
       "  </tbody>\n",
       "</table>\n",
       "</div>"
      ],
      "text/plain": [
       "   subjNum     avgHR\n",
       "0        2  0.326923\n",
       "1        5  0.403846\n",
       "2        6  0.634615\n",
       "3        9  0.173077\n",
       "4       10  0.211538"
      ]
     },
     "execution_count": 14,
     "metadata": {},
     "output_type": "execute_result"
    }
   ],
   "source": [
    "avgHR = df.groupby([\"subjNum\"])[\"hitRate\"].mean().reset_index(name=\"avgHR\")\n",
    "avgHR.head()"
   ]
  },
  {
   "cell_type": "code",
   "execution_count": 15,
   "metadata": {},
   "outputs": [
    {
     "data": {
      "text/html": [
       "<div>\n",
       "<style scoped>\n",
       "    .dataframe tbody tr th:only-of-type {\n",
       "        vertical-align: middle;\n",
       "    }\n",
       "\n",
       "    .dataframe tbody tr th {\n",
       "        vertical-align: top;\n",
       "    }\n",
       "\n",
       "    .dataframe thead th {\n",
       "        text-align: right;\n",
       "    }\n",
       "</style>\n",
       "<table border=\"1\" class=\"dataframe\">\n",
       "  <thead>\n",
       "    <tr style=\"text-align: right;\">\n",
       "      <th></th>\n",
       "      <th>subjNum</th>\n",
       "      <th>groupStatus</th>\n",
       "      <th>adhd</th>\n",
       "      <th>hitRate</th>\n",
       "      <th>faRate</th>\n",
       "      <th>dprime</th>\n",
       "      <th>adhdF</th>\n",
       "      <th>avgHR</th>\n",
       "    </tr>\n",
       "  </thead>\n",
       "  <tbody>\n",
       "    <tr>\n",
       "      <th>0</th>\n",
       "      <td>6</td>\n",
       "      <td>HMM</td>\n",
       "      <td>4</td>\n",
       "      <td>0.711538</td>\n",
       "      <td>0.068627</td>\n",
       "      <td>2.043976</td>\n",
       "      <td>High</td>\n",
       "      <td>0.634615</td>\n",
       "    </tr>\n",
       "    <tr>\n",
       "      <th>1</th>\n",
       "      <td>6</td>\n",
       "      <td>HMM</td>\n",
       "      <td>4</td>\n",
       "      <td>0.557692</td>\n",
       "      <td>0.068627</td>\n",
       "      <td>1.631213</td>\n",
       "      <td>High</td>\n",
       "      <td>0.634615</td>\n",
       "    </tr>\n",
       "    <tr>\n",
       "      <th>2</th>\n",
       "      <td>10</td>\n",
       "      <td>HMM</td>\n",
       "      <td>4</td>\n",
       "      <td>0.211538</td>\n",
       "      <td>0.166667</td>\n",
       "      <td>0.166327</td>\n",
       "      <td>High</td>\n",
       "      <td>0.211538</td>\n",
       "    </tr>\n",
       "    <tr>\n",
       "      <th>3</th>\n",
       "      <td>10</td>\n",
       "      <td>HMM</td>\n",
       "      <td>4</td>\n",
       "      <td>0.211538</td>\n",
       "      <td>0.166667</td>\n",
       "      <td>0.166327</td>\n",
       "      <td>High</td>\n",
       "      <td>0.211538</td>\n",
       "    </tr>\n",
       "    <tr>\n",
       "      <th>4</th>\n",
       "      <td>14</td>\n",
       "      <td>HMM</td>\n",
       "      <td>5</td>\n",
       "      <td>0.134615</td>\n",
       "      <td>0.088235</td>\n",
       "      <td>0.246866</td>\n",
       "      <td>High</td>\n",
       "      <td>0.211538</td>\n",
       "    </tr>\n",
       "  </tbody>\n",
       "</table>\n",
       "</div>"
      ],
      "text/plain": [
       "   subjNum groupStatus  adhd   hitRate    faRate    dprime adhdF     avgHR\n",
       "0        6         HMM     4  0.711538  0.068627  2.043976  High  0.634615\n",
       "1        6         HMM     4  0.557692  0.068627  1.631213  High  0.634615\n",
       "2       10         HMM     4  0.211538  0.166667  0.166327  High  0.211538\n",
       "3       10         HMM     4  0.211538  0.166667  0.166327  High  0.211538\n",
       "4       14         HMM     5  0.134615  0.088235  0.246866  High  0.211538"
      ]
     },
     "execution_count": 15,
     "metadata": {},
     "output_type": "execute_result"
    }
   ],
   "source": [
    "df = df.merge(avgHR,on=\"subjNum\")\n",
    "df.head()"
   ]
  },
  {
   "cell_type": "markdown",
   "metadata": {},
   "source": [
    "You should now have an avgHR column in df, which will repeat within each subject, but vary across subjects.\n"
   ]
  }
 ],
 "metadata": {
  "kernelspec": {
   "display_name": "Python 3",
   "language": "python",
   "name": "python3"
  },
  "language_info": {
   "codemirror_mode": {
    "name": "ipython",
    "version": 3
   },
   "file_extension": ".py",
   "mimetype": "text/x-python",
   "name": "python",
   "nbconvert_exporter": "python",
   "pygments_lexer": "ipython3",
   "version": "3.6.5"
  }
 },
 "nbformat": 4,
 "nbformat_minor": 2
}
